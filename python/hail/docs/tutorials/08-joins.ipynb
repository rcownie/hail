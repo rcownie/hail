{
 "cells": [
  {
   "cell_type": "markdown",
   "metadata": {
    "slideshow": {
     "slide_type": "slide"
    }
   },
   "source": [
    "## Joins\n",
    "\n",
    "The movie dataset comes in multiple parts.  It is very natural to ask questions about the relationship between the parts.\n",
    "\n",
    "- What is the mean rating per genre?\n",
    "- What is the favorite movie for each occupation?\n",
    "- What genres are most preferred by women vs men?\n",
    " \n",
    "Joins let us combine multiple datasets together to answer joint questions."
   ]
  },
  {
   "cell_type": "code",
   "execution_count": null,
   "metadata": {
    "slideshow": {
     "slide_type": "fragment"
    }
   },
   "outputs": [],
   "source": [
    "import hail as hl\n",
    "import seaborn\n",
    "\n",
    "hl.utils.get_movie_lens('data/')\n",
    "\n",
    "users = hl.read_table('data/users.ht')\n",
    "movies = hl.read_table('data/movies.ht')\n",
    "ratings = hl.read_table('data/ratings.ht')"
   ]
  },
  {
   "cell_type": "markdown",
   "metadata": {
    "slideshow": {
     "slide_type": "slide"
    }
   },
   "source": [
    "To understand joins in Hail, we need to revisit one of the crucial properties of `Table`s: the key.\n",
    "\n",
    "A `Table` has an ordered list of fields known as the key.  The key is shown by `describe`."
   ]
  },
  {
   "cell_type": "code",
   "execution_count": null,
   "metadata": {
    "slideshow": {
     "slide_type": "fragment"
    }
   },
   "outputs": [],
   "source": [
    "users.describe()"
   ]
  },
  {
   "cell_type": "markdown",
   "metadata": {
    "slideshow": {
     "slide_type": "slide"
    }
   },
   "source": [
    "`key` is a struct expression of all of the key fields."
   ]
  },
  {
   "cell_type": "code",
   "execution_count": null,
   "metadata": {
    "slideshow": {
     "slide_type": "fragment"
    }
   },
   "outputs": [],
   "source": [
    "users.key.describe()"
   ]
  },
  {
   "cell_type": "markdown",
   "metadata": {
    "slideshow": {
     "slide_type": "slide"
    }
   },
   "source": [
    "Keys need not be unique or non-missing, although in many applications they will be both.\n"
   ]
  },
  {
   "cell_type": "markdown",
   "metadata": {
    "slideshow": {
     "slide_type": "slide"
    }
   },
   "source": [
    "Hail’s join syntax is most easily understood through an example."
   ]
  },
  {
   "cell_type": "code",
   "execution_count": null,
   "metadata": {
    "slideshow": {
     "slide_type": "slide"
    }
   },
   "outputs": [],
   "source": [
    "t1 = hl.Table.parallelize([\n",
    "    {'a': 'foo', 'b': 1},\n",
    "    {'a': 'bar', 'b': 2},\n",
    "    {'a': 'bar', 'b': 2}],\n",
    "    hl.tstruct(a=hl.tstr, b=hl.tint32),\n",
    "    key='a')\n",
    "t2 = hl.Table.parallelize([\n",
    "    {'t': 'foo', 'x': 3.14},\n",
    "    {'t': 'bar', 'x': 2.78},\n",
    "    {'t': 'bar', 'x': -1},\n",
    "    {'t': 'quam', 'x': 0}],\n",
    "    hl.tstruct(t=hl.tstr, x=hl.tfloat64),\n",
    "    key='t')"
   ]
  },
  {
   "cell_type": "code",
   "execution_count": null,
   "metadata": {},
   "outputs": [],
   "source": [
    "t1.show()"
   ]
  },
  {
   "cell_type": "code",
   "execution_count": null,
   "metadata": {},
   "outputs": [],
   "source": [
    "t2.show()"
   ]
  },
  {
   "cell_type": "code",
   "execution_count": null,
   "metadata": {},
   "outputs": [],
   "source": [
    "j = t1.annotate(t2_x = t2[t1.a].x)\n",
    "j.show()"
   ]
  },
  {
   "cell_type": "markdown",
   "metadata": {
    "slideshow": {
     "slide_type": "slide"
    }
   },
   "source": [
    "The magic of keys is that they turn tables into maps: `table[expr]` should naturally refer to the row of `table` that has key the value of `expr`.  Note: if the row is not unique, one such row is chosen arbitrarily.\n",
    "\n",
    "Here's a subtle bit: if `expr` is an expression indexed by row of `table2`, then `table[expr]` is also an expression indexed by row of `table2`.\n",
    "\n",
    "Also note that while they look similar, `table['field1']` and `table[table2.key]` are doing very different things!"
   ]
  },
  {
   "cell_type": "code",
   "execution_count": null,
   "metadata": {},
   "outputs": [],
   "source": [
    "t1"
   ]
  },
  {
   "cell_type": "code",
   "execution_count": null,
   "metadata": {},
   "outputs": [],
   "source": [
    "t2[t1.a].describe()"
   ]
  },
  {
   "cell_type": "markdown",
   "metadata": {
    "slideshow": {
     "slide_type": "slide"
    }
   },
   "source": [
    "Now let's use joins to compute the average movie rating per genre."
   ]
  },
  {
   "cell_type": "code",
   "execution_count": null,
   "metadata": {
    "slideshow": {
     "slide_type": "slide"
    }
   },
   "outputs": [],
   "source": [
    "t = (ratings.group_by(ratings.movie_id) \n",
    "     .aggregate(rating = hl.agg.mean(ratings.rating)))\n",
    "t.describe()"
   ]
  },
  {
   "cell_type": "code",
   "execution_count": null,
   "metadata": {
    "slideshow": {
     "slide_type": "slide"
    }
   },
   "outputs": [],
   "source": [
    "# now join in the movie genre\n",
    "t = t.annotate(genres = movies[t.movie_id].genres)\n",
    "t.describe()"
   ]
  },
  {
   "cell_type": "code",
   "execution_count": null,
   "metadata": {},
   "outputs": [],
   "source": [
    "t.show()"
   ]
  },
  {
   "cell_type": "markdown",
   "metadata": {
    "slideshow": {
     "slide_type": "slide"
    }
   },
   "source": [
    "## Explode\n",
    "\n",
    "Now we want to group by genres, but they're packed up in an array.  To unpack the genres, we can use [explode](https://hail.is/docs/devel/hail.Table.html#hail.Table.explode).  `explode` creates a new row for each element in the value of the field, which must be a collection (array or set)."
   ]
  },
  {
   "cell_type": "code",
   "execution_count": null,
   "metadata": {},
   "outputs": [],
   "source": [
    "t = t.explode(t.genres)\n",
    "t.show()"
   ]
  },
  {
   "cell_type": "code",
   "execution_count": null,
   "metadata": {
    "slideshow": {
     "slide_type": "slide"
    }
   },
   "outputs": [],
   "source": [
    "t = (t.group_by(t.genres)\n",
    "     .aggregate(rating = hl.agg.mean(t.rating)))\n",
    "# save the intermediate result\n",
    "t = t.cache()\n",
    "t.show(n=100)"
   ]
  },
  {
   "cell_type": "markdown",
   "metadata": {
    "slideshow": {
     "slide_type": "slide"
    }
   },
   "source": [
    "## Ordering\n",
    "\n",
    "We can sort tables using [order_by](https://hail.is/docs/devel/hail.Table.html#hail.Table.order_by).  Default is ascending, but you can control the direction with `asc` and `desc`."
   ]
  },
  {
   "cell_type": "code",
   "execution_count": null,
   "metadata": {
    "slideshow": {
     "slide_type": "fragment"
    }
   },
   "outputs": [],
   "source": [
    "t = t.order_by(hl.desc(t.rating))\n",
    "t.show(n=100)"
   ]
  },
  {
   "cell_type": "markdown",
   "metadata": {
    "slideshow": {
     "slide_type": "slide"
    }
   },
   "source": [
    "`Table`s also have a SQL-style inner/left/right/outer [join](https://hail.is/docs/devel/hail.Table.html#hail.Table.join) method.\n",
    "\n",
    "SQL-style joins for `MatrixTable` are coming soon."
   ]
  },
  {
   "cell_type": "markdown",
   "metadata": {
    "slideshow": {
     "slide_type": "slide"
    }
   },
   "source": [
    "## Exercises\n",
    "\n",
    "- What is the favorite movie for each occupation?\n",
    "- What genres are rated most differently by men and women?\n",
    " "
   ]
  },
  {
   "cell_type": "code",
   "execution_count": null,
   "metadata": {},
   "outputs": [],
   "source": []
  }
 ],
 "metadata": {
  "celltoolbar": "Slideshow",
  "kernelspec": {
   "display_name": "Python 3",
   "language": "python",
   "name": "python3"
  },
  "language_info": {
   "codemirror_mode": {
    "name": "ipython",
    "version": 3
   },
   "file_extension": ".py",
   "mimetype": "text/x-python",
   "name": "python",
   "nbconvert_exporter": "python",
   "pygments_lexer": "ipython3",
   "version": "3.6.3"
  }
 },
 "nbformat": 4,
 "nbformat_minor": 2
}
