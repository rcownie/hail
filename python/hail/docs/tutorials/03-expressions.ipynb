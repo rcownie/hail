{
 "cells": [
  {
   "cell_type": "markdown",
   "metadata": {
    "slideshow": {
     "slide_type": "slide"
    }
   },
   "source": [
    "## Expression Tutorial\n",
    "\n",
    "This tutorial covers data representation with Hail's expression classes. We will go over Hail's data types and the expressions that represent them, as well as a few features of expressions, such as lazy evaluation and missingness. We will also cover how expressions can refer to fields in a table or matrix table.\n",
    "\n",
    "As you are working through the tutorial, you can also check out the [expression API](https://hail.is/docs/devel/expressions.html#expressions) for documentation on specific expressions and their methods, or the [expression](https://hail.is/docs/devel/hailpedia/expressions.html) page in the Hailpedia for more information on expressions.\n",
    "\n",
    "Start by importing the Hail module, which we typically abbreviate as `hl`, and initializing Hail and Spark with the [init](https://hail.is/docs/devel/api.html#hail.init) method:"
   ]
  },
  {
   "cell_type": "code",
   "execution_count": null,
   "metadata": {
    "slideshow": {
     "slide_type": "slide"
    }
   },
   "outputs": [],
   "source": [
    "import hail as hl\n",
    "hl.init()"
   ]
  },
  {
   "cell_type": "markdown",
   "metadata": {},
   "source": [
    "### Hail's Data Types\n",
    "\n",
    "Each object in Python has a data type, which can be accessed with Python's `type` method. Here is a Python string, which has type `str`. "
   ]
  },
  {
   "cell_type": "code",
   "execution_count": null,
   "metadata": {},
   "outputs": [],
   "source": [
    "type(\"Python\")"
   ]
  },
  {
   "cell_type": "markdown",
   "metadata": {},
   "source": [
    "Hail has its own data types for representing data. Here is a Hail string, which we construct with the [str](https://hail.is/docs/devel/functions/core.html?highlight=str#hail.expr.functions.str) method. We can access the string's Hail type with the `dtype` field."
   ]
  },
  {
   "cell_type": "code",
   "execution_count": null,
   "metadata": {},
   "outputs": [],
   "source": [
    "hl.str(\"Hail\").dtype"
   ]
  },
  {
   "cell_type": "markdown",
   "metadata": {},
   "source": [
    "Hail has primitive and container types, as well as a few types specific to the field of genetics.\n",
    "\n",
    "* primitive types: [int32](https://hail.is/docs/devel/types.html#hail.expr.types.tint32), [int64](https://hail.is/docs/devel/types.html#hail.expr.types.tint64), [float32](https://hail.is/docs/devel/types.html#hail.expr.types.tfloat32), [float64](https://hail.is/docs/devel/types.html#hail.expr.types.tfloat64), [bool](https://hail.is/docs/devel/types.html#hail.expr.types.tbool), [str](https://hail.is/docs/devel/types.html#hail.expr.types.tstr)\n",
    "* container types: [arrays](https://hail.is/docs/devel/types.html#hail.expr.types.tarray), [sets](https://hail.is/docs/devel/types.html#hail.expr.types.tset), [dicts](https://hail.is/docs/devel/types.html#hail.expr.types.tdict), [tuples](https://hail.is/docs/devel/types.html#hail.expr.types.ttuple), [structs](https://hail.is/docs/devel/types.html#hail.expr.types.tstruct), [intervals](https://hail.is/docs/devel/types.html#hail.expr.types.tinterval)\n",
    "* genetics types: [locus](https://hail.is/docs/devel/types.html#hail.expr.types.tlocus), [call](https://hail.is/docs/devel/types.html#hail.expr.types.tcall)\n",
    "\n",
    "Each of these types has its own constructor method, which returns an expression:"
   ]
  },
  {
   "cell_type": "code",
   "execution_count": null,
   "metadata": {},
   "outputs": [],
   "source": [
    "hl.str(\"Hail\")"
   ]
  },
  {
   "cell_type": "markdown",
   "metadata": {
    "slideshow": {
     "slide_type": "slide"
    }
   },
   "source": [
    "### What is an Expression?\n",
    "\n",
    "Data types in Hail are represented by [expression](https://hail.is/docs/devel/expressions.html#expressions) classes. Each data type has its own expression class. For example, an integer of type `tint32` is represented by an `Int32Expression`. \n",
    "\n",
    "We can construct an integer expression in Hail with the [int32](https://hail.is/docs/devel/functions/constructors.html?highlight=int32#hail.expr.functions.int32) function."
   ]
  },
  {
   "cell_type": "code",
   "execution_count": null,
   "metadata": {},
   "outputs": [],
   "source": [
    "hl.int32(3)"
   ]
  },
  {
   "cell_type": "markdown",
   "metadata": {},
   "source": [
    "To automatically impute the type when converting a Python object to a Hail expression, use the [literal](https://hail.is/docs/devel/functions/core.html?highlight=literal#hail.expr.functions.literal) method. Let's try it out on a Python list."
   ]
  },
  {
   "cell_type": "code",
   "execution_count": null,
   "metadata": {},
   "outputs": [],
   "source": [
    "hl.literal(['a', 'b', 'c'])"
   ]
  },
  {
   "cell_type": "markdown",
   "metadata": {},
   "source": [
    "The Python list is converted to an ArrayExpression of type `array<str>`. In other words, an array of strings."
   ]
  },
  {
   "cell_type": "markdown",
   "metadata": {},
   "source": [
    "### Expressions are Lazy\n",
    "\n",
    "In languages like Python and R, expressions are evaluated and stored immediately. This is called **eager** evalutation."
   ]
  },
  {
   "cell_type": "code",
   "execution_count": null,
   "metadata": {
    "slideshow": {
     "slide_type": "fragment"
    }
   },
   "outputs": [],
   "source": [
    "1 + 2"
   ]
  },
  {
   "cell_type": "markdown",
   "metadata": {
    "slideshow": {
     "slide_type": "slide"
    }
   },
   "source": [
    "Eager evaluation won't work on datasets that won't fit in memory. Consider the UK Biobank BGEN file, which is ~2TB but decompresses to >100TB in memory.\n",
    "\n",
    "In order to process datasets of this size, Hail uses **lazy** evaluation. When you enter an expression, Hail doesn't execute the expression immediately; it only records what you asked to do."
   ]
  },
  {
   "cell_type": "code",
   "execution_count": null,
   "metadata": {
    "slideshow": {
     "slide_type": "fragment"
    }
   },
   "outputs": [],
   "source": [
    "one = hl.int32(1)\n",
    "three = one + 2\n",
    "three"
   ]
  },
  {
   "cell_type": "markdown",
   "metadata": {
    "slideshow": {
     "slide_type": "slide"
    }
   },
   "source": [
    "Hail evaluates an expression only when it must. For example:\n",
    "\n",
    " - when performing an aggregation\n",
    " - when calling the methods [take](https://hail.is/docs/devel/expressions.html?highlight=take#hail.expr.expressions.Expression.take), [collect](https://hail.is/docs/devel/expressions.html?highlight=take#hail.expr.expressions.Expression.collect), and [show](https://hail.is/docs/devel/expressions.html?highlight=take#hail.expr.expressions.Expression.show)\n",
    " - when exporting or writing to disk\n",
    "\n",
    "Hail evaluates expressions by streaming to accomodate very large datasets."
   ]
  },
  {
   "cell_type": "markdown",
   "metadata": {},
   "source": [
    "If you want to force the evaluation of an expression, you can do so by accessing its [value](https://hail.is/docs/devel/expressions.html?highlight=take#hail.expr.expressions.Expression.value). Note that this can only be done on an expression with no index, such as `hl.int32(1) + 2`. If the expression has an index, e.g. `table.idx + 1`, \n",
    "then the `value` method will fail. The section on indices below explains this concept further. "
   ]
  },
  {
   "cell_type": "code",
   "execution_count": null,
   "metadata": {},
   "outputs": [],
   "source": [
    "three.value"
   ]
  },
  {
   "cell_type": "markdown",
   "metadata": {},
   "source": [
    "The [show](https://hail.is/docs/devel/hail.Table.html?highlight=show#hail.Table.show) method can also be used to evaluate and display the expression."
   ]
  },
  {
   "cell_type": "code",
   "execution_count": null,
   "metadata": {
    "slideshow": {
     "slide_type": "fragment"
    }
   },
   "outputs": [],
   "source": [
    "three.show()"
   ]
  },
  {
   "cell_type": "markdown",
   "metadata": {},
   "source": [
    "### Missing data\n",
    "\n",
    "All expressions in Hail can represent missing data. Hail has a [collection of primitive operations](https://hail.is/docs/devel/functions/core.html) for dealing with missingness. \n",
    "\n",
    "The [null](https://hail.is/docs/devel/functions/core.html?highlight=null#hail.expr.functions.null) constructor can be used to create a missing expression of a specific type, such as a missing string:"
   ]
  },
  {
   "cell_type": "code",
   "execution_count": null,
   "metadata": {},
   "outputs": [],
   "source": [
    "missing_string = hl.null(hl.tstr)"
   ]
  },
  {
   "cell_type": "markdown",
   "metadata": {},
   "source": [
    "Use [is_defined](https://hail.is/docs/devel/functions/core.html?highlight=is_defined#hail.expr.functions.is_defined) or [is_missing](https://hail.is/docs/devel/functions/core.html?highlight=is_defined#hail.expr.functions.is_missing) to test an expression for missingness."
   ]
  },
  {
   "cell_type": "code",
   "execution_count": null,
   "metadata": {},
   "outputs": [],
   "source": [
    "hl.is_defined(missing_string).value"
   ]
  },
  {
   "cell_type": "code",
   "execution_count": null,
   "metadata": {},
   "outputs": [],
   "source": [
    "hl.is_missing(missing_string).value"
   ]
  },
  {
   "cell_type": "markdown",
   "metadata": {},
   "source": [
    "Expressions handle missingness in the following ways:\n",
    "\n",
    "* a missing value plus another value is always missing\n",
    "* a conditional statement with a missing predicate is missing\n",
    "* when aggregating a sum of values, the missing values are ignored\n",
    "\n",
    "This is different from Python's treatment of missingness, where `None + 5` would produce an error. In Hail, `hl.null(hl.tint32) + 5` produces a missing result, not an error. "
   ]
  },
  {
   "cell_type": "code",
   "execution_count": null,
   "metadata": {},
   "outputs": [],
   "source": [
    "hl.is_missing(hl.null(hl.tint32) + 5).value"
   ]
  },
  {
   "cell_type": "markdown",
   "metadata": {},
   "source": [
    "Here are a few more examples to illustrate how missingness is treated in Hail:\n",
    "\n",
    "Missingness is ignored in a summation:"
   ]
  },
  {
   "cell_type": "code",
   "execution_count": null,
   "metadata": {},
   "outputs": [],
   "source": [
    "hl.sum(hl.array([1, 2, hl.null(hl.tint32)])).value"
   ]
  },
  {
   "cell_type": "markdown",
   "metadata": {},
   "source": [
    "[or_missing](https://hail.is/docs/devel/functions/core.html?highlight=is_defined#hail.expr.functions.or_missing) takes a predicate and a value. If the predicate is True, it returns the value; otherwise, it returns a missing value. "
   ]
  },
  {
   "cell_type": "code",
   "execution_count": null,
   "metadata": {},
   "outputs": [],
   "source": [
    "x = hl.int32(5)\n",
    "hl.or_missing(x>0, x).value"
   ]
  },
  {
   "cell_type": "code",
   "execution_count": null,
   "metadata": {},
   "outputs": [],
   "source": [
    "print(hl.or_missing(x>10, x).value)"
   ]
  },
  {
   "cell_type": "markdown",
   "metadata": {
    "slideshow": {
     "slide_type": "slide"
    }
   },
   "source": [
    "### Indices\n",
    "\n",
    "Expressions carry another piece of information: indices.  Indices record the `Table` or `MatrixTable` to which the expression refers, and the axes over which the expression can vary.\n",
    "\n",
    "Let's see some examples from the 1000 genomes dataset:"
   ]
  },
  {
   "cell_type": "code",
   "execution_count": null,
   "metadata": {},
   "outputs": [],
   "source": [
    "hl.utils.get_1kg('data/')"
   ]
  },
  {
   "cell_type": "code",
   "execution_count": null,
   "metadata": {
    "slideshow": {
     "slide_type": "fragment"
    }
   },
   "outputs": [],
   "source": [
    "mt = hl.read_matrix_table('data/1kg.mt')\n",
    "mt"
   ]
  },
  {
   "cell_type": "markdown",
   "metadata": {
    "slideshow": {
     "slide_type": "slide"
    }
   },
   "source": [
    "Let's add a global field."
   ]
  },
  {
   "cell_type": "code",
   "execution_count": null,
   "metadata": {
    "slideshow": {
     "slide_type": "fragment"
    }
   },
   "outputs": [],
   "source": [
    "mt = mt.annotate_globals(dataset = '1kg')"
   ]
  },
  {
   "cell_type": "markdown",
   "metadata": {
    "slideshow": {
     "slide_type": "slide"
    }
   },
   "source": [
    "We can examine any field of the matrix table with the [describe](https://hail.is/docs/devel/expressions.html?highlight=describe#hail.expr.expressions.Expression.describe) method. If we examine the field we just added, notice that it has no indices, because it is a global field."
   ]
  },
  {
   "cell_type": "code",
   "execution_count": null,
   "metadata": {
    "slideshow": {
     "slide_type": "slide"
    }
   },
   "outputs": [],
   "source": [
    "mt.dataset.describe()"
   ]
  },
  {
   "cell_type": "markdown",
   "metadata": {},
   "source": [
    "The `locus` field is a row field, so it will be indexed by `row`. "
   ]
  },
  {
   "cell_type": "code",
   "execution_count": null,
   "metadata": {
    "slideshow": {
     "slide_type": "slide"
    }
   },
   "outputs": [],
   "source": [
    "mt.locus.describe()"
   ]
  },
  {
   "cell_type": "markdown",
   "metadata": {},
   "source": [
    "Likewise, a column field `s` will be indexed by `column`."
   ]
  },
  {
   "cell_type": "code",
   "execution_count": null,
   "metadata": {
    "slideshow": {
     "slide_type": "slide"
    }
   },
   "outputs": [],
   "source": [
    "mt.s.describe()"
   ]
  },
  {
   "cell_type": "markdown",
   "metadata": {},
   "source": [
    "And finally, an entry field `GT` will be indexed by both the `row` and `column`."
   ]
  },
  {
   "cell_type": "code",
   "execution_count": null,
   "metadata": {
    "slideshow": {
     "slide_type": "slide"
    }
   },
   "outputs": [],
   "source": [
    "mt.GT.describe()"
   ]
  },
  {
   "cell_type": "markdown",
   "metadata": {
    "slideshow": {
     "slide_type": "slide"
    }
   },
   "source": [
    "Expressions like `locus`, `s`, and `GT` above do not have a single value, but rather a value that varies across rows or columns of `mt`. Therefore, calling the `value` method on these expressions will lead to an error.\n",
    "\n",
    "Global fields don't vary across rows or columns, so they have a `value`:"
   ]
  },
  {
   "cell_type": "code",
   "execution_count": null,
   "metadata": {},
   "outputs": [],
   "source": [
    "mt.dataset.value"
   ]
  },
  {
   "cell_type": "markdown",
   "metadata": {},
   "source": [
    "### `show`, `take`, and `collect`\n",
    "\n",
    "Although expressions with indices do not have a single realizable `value` (calling `value` will fail), you can use `show` to print the first few values, or `take` and `collect` to localize all values into a Python list. \n",
    "\n",
    "`show` and `take` grab the first 10 rows by default, but you can specify a number of rows to grab."
   ]
  },
  {
   "cell_type": "code",
   "execution_count": null,
   "metadata": {},
   "outputs": [],
   "source": [
    "mt.s.show()"
   ]
  },
  {
   "cell_type": "code",
   "execution_count": null,
   "metadata": {},
   "outputs": [],
   "source": [
    "mt.s.take(5)"
   ]
  },
  {
   "cell_type": "markdown",
   "metadata": {},
   "source": [
    "You can [collect](https://hail.is/docs/devel/expressions.html?highlight=collect#hail.expr.expressions.Expression.collect) an expression to localize all values, like getting a list of all sample IDs of a dataset.\n",
    "\n",
    "But be careful -- don't `collect` more data than can fit in memory!"
   ]
  },
  {
   "cell_type": "code",
   "execution_count": null,
   "metadata": {},
   "outputs": [],
   "source": [
    "all_sample_ids = mt.s.collect()\n",
    "all_sample_ids[:5]"
   ]
  },
  {
   "cell_type": "markdown",
   "metadata": {
    "slideshow": {
     "slide_type": "slide"
    }
   },
   "source": [
    "### Learning more\n",
    "\n",
    "Hail has a suite of of [functions](https://hail.is/docs/devel/functions/index.html) to transform and build expressions. \n",
    "\n",
    "For further documentation on expressions, see the [expression API](https://hail.is/docs/devel/expressions.html) and the [expression](https://hail.is/docs/devel/hailpedia/expressions.html) page. "
   ]
  }
 ],
 "metadata": {
  "celltoolbar": "Slideshow",
  "kernelspec": {
   "display_name": "Python 3",
   "language": "python",
   "name": "python3"
  },
  "language_info": {
   "codemirror_mode": {
    "name": "ipython",
    "version": 3
   },
   "file_extension": ".py",
   "mimetype": "text/x-python",
   "name": "python",
   "nbconvert_exporter": "python",
   "pygments_lexer": "ipython3",
   "version": "3.6.5"
  }
 },
 "nbformat": 4,
 "nbformat_minor": 2
}
